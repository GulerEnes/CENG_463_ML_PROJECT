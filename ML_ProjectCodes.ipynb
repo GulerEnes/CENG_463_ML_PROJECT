{
  "nbformat": 4,
  "nbformat_minor": 0,
  "metadata": {
    "colab": {
      "provenance": []
    },
    "kernelspec": {
      "name": "python3",
      "display_name": "Python 3"
    },
    "language_info": {
      "name": "python"
    }
  },
  "cells": [
    {
      "cell_type": "markdown",
      "source": [
        "## Connecting to Google Drive"
      ],
      "metadata": {
        "id": "iPp8R8hJ237O"
      }
    },
    {
      "cell_type": "code",
      "execution_count": null,
      "metadata": {
        "colab": {
          "base_uri": "https://localhost:8080/"
        },
        "id": "a_HKxskEy2Ks",
        "outputId": "007de20c-5a2d-4a47-9d19-ea8959755af3"
      },
      "outputs": [
        {
          "output_type": "stream",
          "name": "stdout",
          "text": [
            "Mounted at /content/drive\n"
          ]
        }
      ],
      "source": [
        "from google.colab import drive\n",
        "drive.mount('/content/drive')"
      ]
    },
    {
      "cell_type": "code",
      "source": [
        "%cd /content/drive/MyDrive/ML_Project"
      ],
      "metadata": {
        "colab": {
          "base_uri": "https://localhost:8080/"
        },
        "id": "9WU-lpWpzICJ",
        "outputId": "4fb45c0f-fa3b-4e93-f57e-8d1751c7bd29"
      },
      "execution_count": null,
      "outputs": [
        {
          "output_type": "stream",
          "name": "stdout",
          "text": [
            "/content/drive/MyDrive/ML_Project\n"
          ]
        }
      ]
    },
    {
      "cell_type": "markdown",
      "source": [
        "## Imports"
      ],
      "metadata": {
        "id": "5IsqcaRe2vwf"
      }
    },
    {
      "cell_type": "code",
      "source": [
        "import numpy as np\n",
        "import pandas as pd\n",
        "import statistics\n",
        "import matplotlib.pyplot as plt\n",
        "\n",
        "from sklearn.model_selection import train_test_split\n",
        "from sklearn.model_selection import cross_val_score\n",
        "\n",
        "from sklearn.neighbors import KNeighborsClassifier\n",
        "from sklearn.svm import SVC\n",
        "\n",
        "from sklearn.metrics import accuracy_score, confusion_matrix, ConfusionMatrixDisplay, classification_report"
      ],
      "metadata": {
        "id": "-bNBzUqz1C2S"
      },
      "execution_count": null,
      "outputs": []
    },
    {
      "cell_type": "markdown",
      "source": [
        "## Reading Data"
      ],
      "metadata": {
        "id": "wRhT5rdF20iV"
      }
    },
    {
      "cell_type": "code",
      "source": [
        "df = pd.read_csv('SharedFiles/DataCSV/train.csv')\n",
        "df = df.sample(frac = 1)  # to shuffe"
      ],
      "metadata": {
        "id": "G6x7rvD322Xb"
      },
      "execution_count": null,
      "outputs": []
    },
    {
      "cell_type": "code",
      "source": [
        "len(df)"
      ],
      "metadata": {
        "colab": {
          "base_uri": "https://localhost:8080/"
        },
        "id": "HwmVwF3cUm-w",
        "outputId": "013ccfe7-e33a-4980-d5bb-5e3a2ddb91a7"
      },
      "execution_count": null,
      "outputs": [
        {
          "output_type": "execute_result",
          "data": {
            "text/plain": [
              "967005"
            ]
          },
          "metadata": {},
          "execution_count": 6
        }
      ]
    },
    {
      "cell_type": "markdown",
      "source": [
        "## Preprocessing Data"
      ],
      "metadata": {
        "id": "_kuNG-_zKHpN"
      }
    },
    {
      "cell_type": "markdown",
      "source": [
        "### Remove outliers: data with zeros"
      ],
      "metadata": {
        "id": "-0MC3pxE7fku"
      }
    },
    {
      "cell_type": "code",
      "source": [
        "df = df[(df['Blue'] != 0) | (df['Green'] != 0) | (df['Red'] != 0) | (df['NIR'] != 0)]\n",
        "df"
      ],
      "metadata": {
        "id": "9X4IvB3p5efD"
      },
      "execution_count": null,
      "outputs": []
    },
    {
      "cell_type": "markdown",
      "source": [
        "### Normalize data by dividing 10000"
      ],
      "metadata": {
        "id": "Q36skQ3h7i-7"
      }
    },
    {
      "cell_type": "code",
      "source": [
        "df['Blue'] = df['Blue'] / 10000\n",
        "df['Red'] = df['Red'] / 10000\n",
        "df['Green'] = df['Green'] / 10000\n",
        "df['NIR'] = df['NIR'] / 10000\n",
        "\n",
        "df"
      ],
      "metadata": {
        "id": "7hrxvJCu7lBH"
      },
      "execution_count": null,
      "outputs": []
    },
    {
      "cell_type": "markdown",
      "source": [
        "### Calculate NDVI"
      ],
      "metadata": {
        "id": "81xKYHOQ8v20"
      }
    },
    {
      "cell_type": "code",
      "source": [
        "df['NDVI'] = (df[\"NIR\"] - df['Red']) / (df[\"NIR\"] + df['Red'])\n",
        "df"
      ],
      "metadata": {
        "id": "6lbXNUwU9GzZ"
      },
      "execution_count": null,
      "outputs": []
    },
    {
      "cell_type": "markdown",
      "source": [
        "## Train SVM"
      ],
      "metadata": {
        "id": "9QL8Tqs7_24u"
      }
    },
    {
      "cell_type": "markdown",
      "source": [
        "### Prepare train val split"
      ],
      "metadata": {
        "id": "KzeJTbsAeKS7"
      }
    },
    {
      "cell_type": "code",
      "source": [
        "dfnumpy = df.to_numpy()\n",
        "np.random.shuffle(dfnumpy)\n",
        "\n",
        "X = dfnumpy[:, -5:]#.reshape(-1, 1)\n",
        "Y = dfnumpy[:, 1]"
      ],
      "metadata": {
        "id": "tZg3joIWCSSR"
      },
      "execution_count": null,
      "outputs": []
    },
    {
      "cell_type": "code",
      "source": [
        "X_Train, X_Test, y_train, y_test = train_test_split(X, Y, stratify=Y, test_size=0.3)"
      ],
      "metadata": {
        "id": "oHpyxsCMHn30"
      },
      "execution_count": null,
      "outputs": []
    },
    {
      "cell_type": "code",
      "source": [
        "print(\"X_Train.shape: \", X_Train.shape)\n",
        "print(\"X_Test.shape: \", X_Test.shape)\n",
        "print(\"y_train.shape: \", y_train.shape)\n",
        "print(\"y_test.shape: \", y_test.shape)"
      ],
      "metadata": {
        "id": "18jPLhl5dzXB"
      },
      "execution_count": null,
      "outputs": []
    },
    {
      "cell_type": "markdown",
      "source": [
        "### find best degree"
      ],
      "metadata": {
        "id": "Rs6nZpZOd_xh"
      }
    },
    {
      "cell_type": "code",
      "source": [
        "kfold=5\n",
        "best_degree = 1\n",
        "best_score = 0\n",
        "scores = []\n",
        "\n",
        "for i in range(1,10):\n",
        "    svm_classifier = SVC(kernel=\"poly\",degree=i)\n",
        "    svmScores = cross_val_score(svm_classifier, X, Y.ravel(), cv=kfold, scoring=\"accuracy\")\n",
        "    score = statistics.mean(svmScores)\n",
        "    scores.append(score)\n",
        "    \n",
        "    if score > best_score:\n",
        "        best_score=score\n",
        "        best_degree=i\n",
        "    print('Average accuracy in 10- fold cross-validation for SVM with degree',i , ' is ', score)\n",
        "\n",
        "print(\"\\n\\nBest degree is\",best_degree,\" with score \",best_score)"
      ],
      "metadata": {
        "id": "4Gjr1b0n_4EH"
      },
      "execution_count": null,
      "outputs": []
    },
    {
      "cell_type": "markdown",
      "source": [
        "### find optimum C"
      ],
      "metadata": {
        "id": "6E57YjsUeDD-"
      }
    },
    {
      "cell_type": "code",
      "source": [
        "scores = []\n",
        "best_C = 1\n",
        "best_score = 0\n",
        "rangeC = 100\n",
        "for c in range(1,rangeC):\n",
        "    svm_classifier = SVC(kernel=\"poly\",degree=best_degree,C=c/10)\n",
        "    svmScores = cross_val_score(svm_classifier, X, Y.ravel(), cv=kfold, scoring=\"accuracy\")\n",
        "    score = statistics.mean(svmScores)\n",
        "    scores.append(score)\n",
        "    if score > best_score:\n",
        "        best_score=score\n",
        "        best_C=c/100\n",
        "    #print('Average accuracy in 10- fold cross-validation for SVM with degree',best_degree ,\"and C\",c, ' is ', score)\n",
        "\n",
        "print(\"\\n\\nBest C is\",best_C,\" with score \",best_score)"
      ],
      "metadata": {
        "id": "niwLFKxdVJ3A"
      },
      "execution_count": null,
      "outputs": []
    },
    {
      "cell_type": "markdown",
      "source": [
        "### Train"
      ],
      "metadata": {
        "id": "WbEAdQSOeGOl"
      }
    },
    {
      "cell_type": "code",
      "source": [
        "svm_classifier = SVC(kernel=\"poly\",degree=best_degree,C=best_score)\n",
        "svm_classifier.fit(X_Train,y_train)\n",
        "\n",
        "Y_hat = svm_classifier.predict(X_Test)\n",
        "print(classification_report(y_test,Y_hat))"
      ],
      "metadata": {
        "id": "vfhFspM9VNBZ"
      },
      "execution_count": null,
      "outputs": []
    },
    {
      "cell_type": "markdown",
      "source": [
        "## Train KNN"
      ],
      "metadata": {
        "id": "GEBWrrc4jPLO"
      }
    },
    {
      "cell_type": "markdown",
      "source": [
        "### Finding Best n_neighbors"
      ],
      "metadata": {
        "id": "qEf7C_XFjV4I"
      }
    },
    {
      "cell_type": "code",
      "source": [
        "scores = [];\n",
        "\n",
        "bestScore = 0;\n",
        "bestK = 0;\n",
        "\n",
        "for k in range(1, 35, 2):\n",
        "    knn = KNeighborsClassifier(n_neighbors=k)\n",
        "    knnScores = cross_val_score(knn, X_Train, y_train, cv=5, scoring=\"accuracy\")\n",
        "    knnScore = statistics.mean(knnScores);\n",
        "    scores.append(knnScore);\n",
        "    \n",
        "    print('Average accuracy in ', 5, '- fold cross-validation for KNN with K=', k, ' is ', knnScore)\n",
        "    if (knnScore > bestScore):\n",
        "        bestScore = knnScore;\n",
        "        bestK = k\n",
        "\n",
        "print('')\n",
        "print('Best K is ', bestK, ' with best score as ', bestScore)\n",
        "\n",
        "plt.plot(scores)\n",
        "plt.title('K-fold Cross Validation, Test Accuracies with respect to K (for KNN)')"
      ],
      "metadata": {
        "id": "HHzS4GV0jQ2j"
      },
      "execution_count": null,
      "outputs": []
    },
    {
      "cell_type": "markdown",
      "source": [
        "### Taining"
      ],
      "metadata": {
        "id": "MtSg3oB1jfFy"
      }
    },
    {
      "cell_type": "code",
      "source": [
        "# Create the KNN classifier with k=1\n",
        "clf = KNeighborsClassifier(n_neighbors=19)\n",
        "\n",
        "# Use cross-validation to evaluate the model's accuracy\n",
        "#scores = cross_val_score(clf, X, Y.ravel(), cv=5)\n",
        "#acc = scores.mean()\n",
        "\n",
        "# Fit the classifier to the data\n",
        "clf.fit(X_Train, y_train)"
      ],
      "metadata": {
        "id": "YItIKKs-jg3u"
      },
      "execution_count": null,
      "outputs": []
    },
    {
      "cell_type": "markdown",
      "source": [
        "# Making Prediction and Evaluation On Validation Set"
      ],
      "metadata": {
        "id": "ALS2gqn3DVHx"
      }
    },
    {
      "cell_type": "code",
      "source": [
        "# Predict labels for new data\n",
        "predictions = svm_classifier.predict(X_Test) # X_Test"
      ],
      "metadata": {
        "id": "7TB4NSY0VU42"
      },
      "execution_count": null,
      "outputs": []
    },
    {
      "cell_type": "code",
      "source": [
        "# Evaluate the accuracy of the classifier\n",
        "accuracy = accuracy_score(y_test, predictions) # y_test\n",
        "print(f'Accuracy: {accuracy:.2%}')"
      ],
      "metadata": {
        "id": "_jQATXlJVnE7"
      },
      "execution_count": null,
      "outputs": []
    },
    {
      "cell_type": "code",
      "source": [
        "# Compute the confusion matrix\n",
        "labels = ['Tree cover', 'Shrubland', 'Grassland', 'Cropland', 'Built-up', 'Bare/sparse vegetation', 'Snow and ice','Permanent water bodies', 'Herbaceous wetland']\n",
        "\n",
        "cm = confusion_matrix(y_test, predictions) # y_test\n",
        "print(classification_report(y_test, predictions,target_names=labels)) # y_test\n",
        "# print(cm)\n",
        "cmd = ConfusionMatrixDisplay(cm, display_labels=labels)\n",
        "cmd.plot()"
      ],
      "metadata": {
        "id": "iolpG1RkVnu2"
      },
      "execution_count": null,
      "outputs": []
    },
    {
      "cell_type": "markdown",
      "source": [
        "# Final Test For Submission"
      ],
      "metadata": {
        "id": "nmj7OoOEjzU5"
      }
    },
    {
      "cell_type": "markdown",
      "source": [
        "## Reading Test Data"
      ],
      "metadata": {
        "id": "fRLqC9xKB9gn"
      }
    },
    {
      "cell_type": "markdown",
      "source": [
        "We are only normalizing data and calculating NDVI. When we delete outliers the results become not suitable for submission. Because number of rows changes "
      ],
      "metadata": {
        "id": "WSgXYeJ-loNs"
      }
    },
    {
      "cell_type": "code",
      "source": [
        "df_test = pd.read_csv('SharedFiles/DataCSV/test.csv')\n",
        "len(df_test)"
      ],
      "metadata": {
        "id": "rW83em0oB_rE"
      },
      "execution_count": null,
      "outputs": []
    },
    {
      "cell_type": "markdown",
      "source": [
        "### Normalizing Data"
      ],
      "metadata": {
        "id": "aXJTxY2FkGww"
      }
    },
    {
      "cell_type": "code",
      "source": [
        "df_test['Blue'] = df_test['Blue'] / 10000\n",
        "df_test['Red'] = df_test['Red'] / 10000\n",
        "df_test['Green'] = df_test['Green'] / 10000\n",
        "df_test['NIR'] = df_test['NIR'] / 10000\n",
        "\n",
        "df_test"
      ],
      "metadata": {
        "id": "A4-N5jiuCVs9"
      },
      "execution_count": null,
      "outputs": []
    },
    {
      "cell_type": "markdown",
      "source": [
        "### Calculate NDVI"
      ],
      "metadata": {
        "id": "FbouST01kK79"
      }
    },
    {
      "cell_type": "code",
      "source": [
        "df_test['NDVI'] = (df_test[\"NIR\"] - df_test['Red']) / (df_test[\"NIR\"] + df_test['Red'])\n",
        "df_test['NDVI'] = df_test['NDVI'].fillna(0)\n",
        "\n",
        "df_test"
      ],
      "metadata": {
        "id": "QYDGiJ7WCfIW"
      },
      "execution_count": null,
      "outputs": []
    },
    {
      "cell_type": "markdown",
      "source": [
        "## Making Final Predictions To Write submission.csv"
      ],
      "metadata": {
        "id": "unU0D_11DEOz"
      }
    },
    {
      "cell_type": "code",
      "source": [
        "dfnumpy = df_test.to_numpy()\n",
        "X_test_submission = dfnumpy[:, -5:]#.reshape(-1, 1)"
      ],
      "metadata": {
        "id": "tb4ueW7hCrdW"
      },
      "execution_count": null,
      "outputs": []
    },
    {
      "cell_type": "code",
      "source": [
        "# Predict labels for new data\n",
        "predictions = clf.predict(X_test_submission)"
      ],
      "metadata": {
        "id": "m3akFTVWke5k"
      },
      "execution_count": null,
      "outputs": []
    },
    {
      "cell_type": "code",
      "source": [
        "# Giving column name\n",
        "df_result_submission = pd.DataFrame(predictions)\n",
        "df_result_submission.columns=['Code']\n",
        "df_result_submission.head()"
      ],
      "metadata": {
        "id": "KqvpzJXgkhdn"
      },
      "execution_count": null,
      "outputs": []
    },
    {
      "cell_type": "code",
      "source": [
        "# Preparing Id column\n",
        "df_result_submissionDeneme = df_result_submission\n",
        "df_result_submissionDeneme['Code'] = df_result_submissionDeneme['Code'].astype(int)\n",
        "\n",
        "df_result_submissionDeneme.insert(0, 'Id', range(0, 0 + len(df_result_submissionDeneme)))\n",
        "\n",
        "df_result_submissionDeneme.shape\n",
        "df_result_submissionDeneme.head()"
      ],
      "metadata": {
        "id": "gArAPPd1kjSQ"
      },
      "execution_count": null,
      "outputs": []
    },
    {
      "cell_type": "code",
      "source": [
        "# Writing results without default index\n",
        "df_result_submissionDeneme.to_csv('submission.csv',index=False)"
      ],
      "metadata": {
        "id": "nfOtSQUpklNr"
      },
      "execution_count": null,
      "outputs": []
    }
  ]
}